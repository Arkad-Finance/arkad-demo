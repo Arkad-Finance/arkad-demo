{
 "cells": [
  {
   "cell_type": "code",
   "execution_count": 1,
   "metadata": {},
   "outputs": [],
   "source": [
    "import os\n",
    "import openai\n",
    "from dotenv import load_dotenv\n",
    "from sql_market_agent.agent.agent import create_sql_market_agent\n",
    "from langchain_openai.chat_models import ChatOpenAI\n",
    "from langchain_community.chat_models import ChatOllama\n",
    "from langchain.callbacks import StdOutCallbackHandler\n",
    "from langchain.agents import AgentType\n",
    "\n",
    "import matplotlib.pyplot as plt\n",
    "import numpy as np\n",
    "\n",
    "load_dotenv()\n",
    "\n",
    "OPENAI_API_KEY = os.environ.get(\"OPENAI_API_KEY\")\n",
    "DB_HOST = os.getenv(\"POSTGRES_HOST\", \"localhost\")\n",
    "DB_PORT = os.getenv(\"POSTGRES_PORT\", \"5432\")\n",
    "DB_NAME = os.environ.get(\"POSTGRES_DB\")\n",
    "DB_USER = os.environ.get(\"POSTGRES_USER\")\n",
    "DB_PASSWORD = os.environ.get(\"POSTGRES_PASSWORD\")"
   ]
  },
  {
   "cell_type": "code",
   "execution_count": 2,
   "metadata": {},
   "outputs": [],
   "source": [
    "%matplotlib inline\n"
   ]
  },
  {
   "cell_type": "code",
   "execution_count": 3,
   "metadata": {},
   "outputs": [
    {
     "ename": "TypeError",
     "evalue": "create_sql_market_agent() missing 2 required positional arguments: 'sql_llm' and 'code_llm'",
     "output_type": "error",
     "traceback": [
      "\u001b[0;31m---------------------------------------------------------------------------\u001b[0m",
      "\u001b[0;31mTypeError\u001b[0m                                 Traceback (most recent call last)",
      "Cell \u001b[0;32mIn[3], line 5\u001b[0m\n\u001b[1;32m      2\u001b[0m openai\u001b[38;5;241m.\u001b[39mapi_key \u001b[38;5;241m=\u001b[39m OPENAI_API_KEY\n\u001b[1;32m      3\u001b[0m llm \u001b[38;5;241m=\u001b[39m ChatOpenAI(temperature\u001b[38;5;241m=\u001b[39m\u001b[38;5;241m0\u001b[39m, model\u001b[38;5;241m=\u001b[39m\u001b[38;5;124m\"\u001b[39m\u001b[38;5;124mgpt-4\u001b[39m\u001b[38;5;124m\"\u001b[39m, streaming\u001b[38;5;241m=\u001b[39m\u001b[38;5;28;01mTrue\u001b[39;00m)\n\u001b[0;32m----> 5\u001b[0m agent_executor \u001b[38;5;241m=\u001b[39m \u001b[43mcreate_sql_market_agent\u001b[49m\u001b[43m(\u001b[49m\n\u001b[1;32m      6\u001b[0m \u001b[43m    \u001b[49m\u001b[43mllm\u001b[49m\u001b[38;5;241;43m=\u001b[39;49m\u001b[43mllm\u001b[49m\u001b[43m,\u001b[49m\n\u001b[1;32m      7\u001b[0m \u001b[43m    \u001b[49m\u001b[43magent_type\u001b[49m\u001b[38;5;241;43m=\u001b[39;49m\u001b[43mAgentType\u001b[49m\u001b[38;5;241;43m.\u001b[39;49m\u001b[43mOPENAI_FUNCTIONS\u001b[49m\u001b[43m,\u001b[49m\n\u001b[1;32m      8\u001b[0m \u001b[43m    \u001b[49m\u001b[43mpreinitialize_database\u001b[49m\u001b[38;5;241;43m=\u001b[39;49m\u001b[38;5;28;43;01mTrue\u001b[39;49;00m\u001b[43m,\u001b[49m\n\u001b[1;32m      9\u001b[0m \u001b[43m    \u001b[49m\u001b[38;5;66;43;03m# to load specified stocks instead of internal default list from stocks.json\u001b[39;49;00m\n\u001b[1;32m     10\u001b[0m \u001b[43m    \u001b[49m\u001b[38;5;66;43;03m# stocks=[\"CAT\", \"NKE\", \"XOM\"], \u001b[39;49;00m\n\u001b[1;32m     11\u001b[0m \u001b[43m)\u001b[49m\n",
      "\u001b[0;31mTypeError\u001b[0m: create_sql_market_agent() missing 2 required positional arguments: 'sql_llm' and 'code_llm'"
     ]
    }
   ],
   "source": [
    "# For using open ai models\n",
    "openai.api_key = OPENAI_API_KEY\n",
    "llm = ChatOpenAI(temperature=0, \n",
    "                 model=\"gpt-4-0125-preview\", \n",
    "                 streaming=True, \n",
    "                 model_kwargs={\"seed\": 123})\n",
    "sql_llm = ChatOpenAI(temperature=0, \n",
    "                 model=\"gpt-4-0125-preview\", \n",
    "                 streaming=True, \n",
    "                 model_kwargs={\"seed\": 123})\n",
    "code_llm = ChatOpenAI(temperature=0, \n",
    "                 model=\"gpt-4-0125-preview\", \n",
    "                 streaming=True, \n",
    "                 model_kwargs={\"seed\": 123})\n",
    "\n",
    "\n",
    "agent_executor = create_sql_market_agent(\n",
    "    llm=llm,\n",
    "    sql_llm=sql_llm,\n",
    "    code_llm=code_llm,\n",
    "    agent_type=AgentType.OPENAI_FUNCTIONS,\n",
    "    preinitialize_database=True,\n",
    "    # to load specified stocks instead of internal default list from stocks.json\n",
    "    # stocks=[\"CAT\", \"NKE\", \"XOM\"], \n",
    ")"
   ]
  },
  {
   "cell_type": "code",
   "execution_count": 4,
   "metadata": {},
   "outputs": [
    {
     "name": "stderr",
     "output_type": "stream",
     "text": [
      "/home/oleh/arkad/arkad-demo/arkad-sql-demo/notebooks/.venv/lib/python3.10/site-packages/langchain_core/_api/deprecation.py:117: LangChainDeprecationWarning: The function `__call__` was deprecated in LangChain 0.1.0 and will be removed in 0.2.0. Use invoke instead.\n",
      "  warn_deprecated(\n"
     ]
    },
    {
     "name": "stdout",
     "output_type": "stream",
     "text": [
      "\n",
      "\n",
      "\u001b[1m> Entering new AgentExecutor chain...\u001b[0m\n"
     ]
    },
    {
     "name": "stderr",
     "output_type": "stream",
     "text": [
      "2024-02-10 06:17:28,691 - INFO - HTTP Request: POST https://api.openai.com/v1/chat/completions \"HTTP/1.1 200 OK\"\n"
     ]
    },
    {
     "name": "stdout",
     "output_type": "stream",
     "text": [
      "\u001b[32;1m\u001b[1;3m\n",
      "Invoking: `sql_database_tool` with `What are all the close prices for XOM with their respective dates?`\n",
      "\n",
      "\n",
      "\u001b[0m\n",
      "\n",
      "\u001b[1m> Entering new AgentExecutor chain...\u001b[0m\n"
     ]
    },
    {
     "name": "stderr",
     "output_type": "stream",
     "text": [
      "2024-02-10 06:17:31,147 - INFO - HTTP Request: POST https://api.openai.com/v1/chat/completions \"HTTP/1.1 200 OK\"\n"
     ]
    },
    {
     "name": "stdout",
     "output_type": "stream",
     "text": [
      "\u001b[32;1m\u001b[1;3m\n",
      "Invoking: `sql_db_query_checker` with `SELECT date, close FROM stockdata WHERE symbol = 'XOM' ORDER BY date LIMIT 10`\n",
      "\n",
      "\n",
      "\u001b[0m"
     ]
    },
    {
     "name": "stderr",
     "output_type": "stream",
     "text": [
      "2024-02-10 06:17:33,201 - INFO - HTTP Request: POST https://api.openai.com/v1/chat/completions \"HTTP/1.1 200 OK\"\n"
     ]
    },
    {
     "name": "stdout",
     "output_type": "stream",
     "text": [
      "\u001b[36;1m\u001b[1;3mSELECT date, close FROM stockdata WHERE symbol = 'XOM' ORDER BY date LIMIT 10\u001b[0m"
     ]
    },
    {
     "name": "stderr",
     "output_type": "stream",
     "text": [
      "2024-02-10 06:17:34,833 - INFO - HTTP Request: POST https://api.openai.com/v1/chat/completions \"HTTP/1.1 200 OK\"\n"
     ]
    },
    {
     "name": "stdout",
     "output_type": "stream",
     "text": [
      "\u001b[32;1m\u001b[1;3m\n",
      "Invoking: `sql_db_query` with `SELECT date, close FROM stockdata WHERE symbol = 'XOM' ORDER BY date LIMIT 10`\n",
      "\n",
      "\n",
      "\u001b[0m\u001b[36;1m\u001b[1;3m[('2024-01-12', 99.94999694824219), ('2024-01-16', 97.69000244140625), ('2024-01-17', 96.9800033569336), ('2024-01-18', 96.80000305175781), ('2024-01-19', 96.94999694824219), ('2024-01-22', 96.81999969482422), ('2024-01-23', 97.91000366210938), ('2024-01-24', 99.5999984741211), ('2024-01-25', 102.12999725341797), ('2024-01-26', 103.0)]\u001b[0m"
     ]
    },
    {
     "name": "stderr",
     "output_type": "stream",
     "text": [
      "2024-02-10 06:17:36,784 - INFO - HTTP Request: POST https://api.openai.com/v1/chat/completions \"HTTP/1.1 200 OK\"\n"
     ]
    },
    {
     "name": "stdout",
     "output_type": "stream",
     "text": [
      "\u001b[32;1m\u001b[1;3mThe close prices for XOM with their respective dates are as follows:\n",
      "\n",
      "1. 2024-01-12: 99.95\n",
      "2. 2024-01-16: 97.69\n",
      "3. 2024-01-17: 96.98\n",
      "4. 2024-01-18: 96.80\n",
      "5. 2024-01-19: 96.95\n",
      "6. 2024-01-22: 96.82\n",
      "7. 2024-01-23: 97.91\n",
      "8. 2024-01-24: 99.60\n",
      "9. 2024-01-25: 102.13\n",
      "10. 2024-01-26: 103.00\u001b[0m\n",
      "\n",
      "\u001b[1m> Finished chain.\u001b[0m\n",
      "\u001b[36;1m\u001b[1;3mThe close prices for XOM with their respective dates are as follows:\n",
      "\n",
      "1. 2024-01-12: 99.95\n",
      "2. 2024-01-16: 97.69\n",
      "3. 2024-01-17: 96.98\n",
      "4. 2024-01-18: 96.80\n",
      "5. 2024-01-19: 96.95\n",
      "6. 2024-01-22: 96.82\n",
      "7. 2024-01-23: 97.91\n",
      "8. 2024-01-24: 99.60\n",
      "9. 2024-01-25: 102.13\n",
      "10. 2024-01-26: 103.00\u001b[0m"
     ]
    },
    {
     "name": "stderr",
     "output_type": "stream",
     "text": [
      "2024-02-10 06:17:47,735 - INFO - HTTP Request: POST https://api.openai.com/v1/chat/completions \"HTTP/1.1 200 OK\"\n",
      "2024-02-10 06:18:15,880 - WARNING - Python REPL can execute arbitrary code. Use with caution.\n"
     ]
    },
    {
     "name": "stdout",
     "output_type": "stream",
     "text": [
      "\u001b[32;1m\u001b[1;3m\n",
      "Invoking: `PythonREPLTool` with `{'code': \"import pandas as pd\\nimport matplotlib.pyplot as plt\\n\\n# Create a pandas DataFrame\\nprices = {'Date': ['2024-01-12', '2024-01-16', '2024-01-17', '2024-01-18', '2024-01-19', '2024-01-22', '2024-01-23', '2024-01-24', '2024-01-25', '2024-01-26'],\\n          'Close Price': [99.95, 97.69, 96.98, 96.80, 96.95, 96.82, 97.91, 99.60, 102.13, 103.00]}\\ndf = pd.DataFrame(prices)\\n\\n# Convert the 'Date' column to datetime format\\ndf['Date'] = pd.to_datetime(df['Date'])\\n\\n# Set the 'Date' column as the index\\ndf.set_index('Date', inplace=True)\\n\\n# Plot the close prices\\nplt.figure(figsize=(10,6))\\nplt.plot(df['Close Price'])\\nplt.title('XOM Close Prices')\\nplt.xlabel('Date')\\nplt.ylabel('Close Price ($)')\\nplt.grid(True)\\nplt.show()\", 'task_type': 'plot', 'df_representation': '{\"Date\": [\"2024-01-12\", \"2024-01-16\", \"2024-01-17\", \"2024-01-18\", \"2024-01-19\", \"2024-01-22\", \"2024-01-23\", \"2024-01-24\", \"2024-01-25\", \"2024-01-26\"], \"Close Price\": [99.95, 97.69, 96.98, 96.8, 96.95, 96.82, 97.91, 99.6, 102.13, 103.0]}'}`\n",
      "\n",
      "\n",
      "\u001b[0m"
     ]
    },
    {
     "data": {
      "image/png": "[encoded data removed]",
      "text/plain": [
       "<Figure size 1000x600 with 1 Axes>"
      ]
     },
     "metadata": {},
     "output_type": "display_data"
    },
    {
     "name": "stdout",
     "output_type": "stream",
     "text": [
      "\u001b[36;1m\u001b[1;3m{\"output\": \"Succesfully executed:\\n```python\\nimport pandas as pd\\nimport matplotlib.pyplot as plt\\n\\n# Create a pandas DataFrame\\nprices = {'Date': ['2024-01-12', '2024-01-16', '2024-01-17', '2024-01-18', '2024-01-19', '2024-01-22', '2024-01-23', '2024-01-24', '2024-01-25', '2024-01-26'],\\n          'Close Price': [99.95, 97.69, 96.98, 96.80, 96.95, 96.82, 97.91, 99.60, 102.13, 103.00]}\\ndf = pd.DataFrame(prices)\\n\\n# Convert the 'Date' column to datetime format\\ndf['Date'] = pd.to_datetime(df['Date'])\\n\\n# Set the 'Date' column as the index\\ndf.set_index('Date', inplace=True)\\n\\n# Plot the close prices\\nplt.figure(figsize=(10,6))\\nplt.plot(df['Close Price'])\\nplt.title('XOM Close Prices')\\nplt.xlabel('Date')\\nplt.ylabel('Close Price ($)')\\nplt.grid(True)\\nplt.show()```\\n\", \"stdout\": \"\", \"task_type\": \"plot\", \"df_representation\": \"{\\\"Date\\\": [\\\"2024-01-12\\\", \\\"2024-01-16\\\", \\\"2024-01-17\\\", \\\"2024-01-18\\\", \\\"2024-01-19\\\", \\\"2024-01-22\\\", \\\"2024-01-23\\\", \\\"2024-01-24\\\", \\\"2024-01-25\\\", \\\"2024-01-26\\\"], \\\"Close Price\\\": [99.95, 97.69, 96.98, 96.8, 96.95, 96.82, 97.91, 99.6, 102.13, 103.0]}\"}\u001b[0m"
     ]
    },
    {
     "name": "stderr",
     "output_type": "stream",
     "text": [
      "2024-02-10 06:18:16,974 - INFO - HTTP Request: POST https://api.openai.com/v1/chat/completions \"HTTP/1.1 200 OK\"\n"
     ]
    }
   ],
   "source": [
    "input = \"\"\"Plot xom close prices for last 3 days\"\"\"\n",
    "response = agent_executor(\n",
    "            {\"input\": input, \"chat_history\": []},\n",
    "            # callbacks=[StdOutCallbackHandler()],\n",
    ")\n",
    "\n"
   ]
  },
  {
   "cell_type": "code",
   "execution_count": null,
   "metadata": {},
   "outputs": [],
   "source": []
  }
 ],
 "metadata": {
  "kernelspec": {
   "display_name": ".venv",
   "language": "python",
   "name": "python3"
  },
  "language_info": {
   "codemirror_mode": {
    "name": "ipython",
    "version": 3
   },
   "file_extension": ".py",
   "mimetype": "text/x-python",
   "name": "python",
   "nbconvert_exporter": "python",
   "pygments_lexer": "ipython3",
   "version": "3.10.12"
  }
 },
 "nbformat": 4,
 "nbformat_minor": 2
}
