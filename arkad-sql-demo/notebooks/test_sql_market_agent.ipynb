{
 "cells": [
  {
   "cell_type": "code",
   "execution_count": 1,
   "metadata": {},
   "outputs": [
    {
     "name": "stderr",
     "output_type": "stream",
     "text": [
      "2024-01-29 16:11:14,791 - INFO - NumExpr defaulting to 8 threads.\n"
     ]
    }
   ],
   "source": [
    "import os\n",
    "import openai\n",
    "from dotenv import load_dotenv\n",
    "from sql_market_agent.agent.agent import create_sql_market_agent\n",
    "from langchain_openai.chat_models import ChatOpenAI\n",
    "from langchain.callbacks import StdOutCallbackHandler\n",
    "import matplotlib.pyplot as plt\n",
    "\n",
    "load_dotenv()\n",
    "\n",
    "OPENAI_API_KEY = os.environ.get(\"OPENAI_API_KEY\")\n",
    "DB_HOST = os.getenv(\"POSTGRES_HOST\", \"localhost\")\n",
    "DB_PORT = os.getenv(\"POSTGRES_PORT\", \"5432\")\n",
    "DB_NAME = os.environ.get(\"POSTGRES_DB\")\n",
    "DB_USER = os.environ.get(\"POSTGRES_USER\")\n",
    "DB_PASSWORD = os.environ.get(\"POSTGRES_PASSWORD\")"
   ]
  },
  {
   "cell_type": "code",
   "execution_count": 2,
   "metadata": {},
   "outputs": [],
   "source": [
    "%matplotlib inline\n"
   ]
  },
  {
   "cell_type": "code",
   "execution_count": 3,
   "metadata": {},
   "outputs": [
    {
     "name": "stderr",
     "output_type": "stream",
     "text": [
      "2024-01-29 16:11:17,915 - INFO - DB connection string not provided, using local db on disc...\n",
      "2024-01-29 16:11:17,928 - INFO - Initializing database with StockData table...\n",
      "2024-01-29 16:11:17,945 - INFO - Database (sqlite) initialized.\n",
      "2024-01-29 16:11:17,946 - INFO - Fetching data for analysis...\n",
      "/home/oleh/arkad/arkad-demo/arkad-sql-demo/notebooks/.venv/lib/python3.10/site-packages/yfinance/utils.py:775: FutureWarning: The 'unit' keyword in TimedeltaIndex construction is deprecated and will be removed in a future version. Use pd.to_timedelta instead.\n",
      "  df.index += _pd.TimedeltaIndex(dst_error_hours, 'h')\n",
      "/home/oleh/arkad/arkad-demo/arkad-sql-demo/notebooks/.venv/lib/python3.10/site-packages/yfinance/utils.py:775: FutureWarning: The 'unit' keyword in TimedeltaIndex construction is deprecated and will be removed in a future version. Use pd.to_timedelta instead.\n",
      "  df.index += _pd.TimedeltaIndex(dst_error_hours, 'h')\n",
      "/home/oleh/arkad/arkad-demo/arkad-sql-demo/notebooks/.venv/lib/python3.10/site-packages/yfinance/utils.py:775: FutureWarning: The 'unit' keyword in TimedeltaIndex construction is deprecated and will be removed in a future version. Use pd.to_timedelta instead.\n",
      "  df.index += _pd.TimedeltaIndex(dst_error_hours, 'h')\n",
      "2024-01-29 16:11:19,428 - INFO - Data fetched and inserted successfully.\n",
      "2024-01-29 16:11:19,430 - INFO - Connecting to db for sql agent...\n",
      "2024-01-29 16:11:19,438 - INFO - Connected to db for sql agent successfully\n",
      "/home/oleh/arkad/arkad-demo/arkad-sql-demo/notebooks/.venv/lib/python3.10/site-packages/langchain_core/_api/deprecation.py:117: LangChainDeprecationWarning: The function `format_tool_to_openai_function` was deprecated in LangChain 0.1.16 and will be removed in 0.2.0. Use langchain_core.utils.function_calling.convert_to_openai_function() instead.\n",
      "  warn_deprecated(\n"
     ]
    }
   ],
   "source": [
    "openai.api_key = OPENAI_API_KEY\n",
    "\n",
    "\n",
    "llm = ChatOpenAI(temperature=0, model=\"gpt-4\", streaming=True)\n",
    "\n",
    "# Create postgres connection string:\n",
    "# db_connection_string = (\n",
    "#     f\"postgresql+psycopg2://{DB_USER}:{DB_PASSWORD}@{DB_HOST}:{DB_PORT}/{DB_NAME}\"\n",
    "# )\n",
    "agent_executor = create_sql_market_agent(\n",
    "    llm=llm,\n",
    "    # db_connection_string=db_connection_string,\n",
    "    preinitialize_database=True,\n",
    "    stocks=[\"CAT\", \"NKE\", \"XOM\"],\n",
    ")"
   ]
  },
  {
   "cell_type": "code",
   "execution_count": 6,
   "metadata": {},
   "outputs": [
    {
     "name": "stdout",
     "output_type": "stream",
     "text": [
      "\n",
      "\n",
      "\u001b[1m> Entering new AgentExecutor chain...\u001b[0m\n"
     ]
    },
    {
     "name": "stderr",
     "output_type": "stream",
     "text": [
      "2024-01-29 16:14:05,047 - INFO - HTTP Request: POST https://api.openai.com/v1/chat/completions \"HTTP/1.1 200 OK\"\n"
     ]
    },
    {
     "name": "stdout",
     "output_type": "stream",
     "text": [
      "\u001b[32;1m\u001b[1;3m\n",
      "Invoking: `date_tool` with `{'query': '5 days ago'}`\n",
      "\n",
      "\n",
      "\u001b[0m\u001b[36;1m\u001b[1;3mI could not parse date\u001b[0m"
     ]
    },
    {
     "name": "stderr",
     "output_type": "stream",
     "text": [
      "2024-01-29 16:14:06,480 - INFO - HTTP Request: POST https://api.openai.com/v1/chat/completions \"HTTP/1.1 200 OK\"\n"
     ]
    },
    {
     "name": "stdout",
     "output_type": "stream",
     "text": [
      "\u001b[32;1m\u001b[1;3m\n",
      "Invoking: `sql_database_tool` with `What is the close price for XOM for the most recent 5 days?`\n",
      "\n",
      "\n",
      "\u001b[0m\n",
      "\n",
      "\u001b[1m> Entering new AgentExecutor chain...\u001b[0m\n"
     ]
    },
    {
     "name": "stderr",
     "output_type": "stream",
     "text": [
      "2024-01-29 16:14:08,324 - INFO - HTTP Request: POST https://api.openai.com/v1/chat/completions \"HTTP/1.1 200 OK\"\n"
     ]
    },
    {
     "name": "stdout",
     "output_type": "stream",
     "text": [
      "\u001b[32;1m\u001b[1;3mI need to find the table that contains the stock prices for XOM, then I can write a SQL query to get the close price for the most recent 5 days.\n",
      "Action: sql_db_list_tables\n",
      "Action Input: \"\"\u001b[0m\u001b[38;5;200m\u001b[1;3mstockdata\u001b[0m"
     ]
    },
    {
     "name": "stderr",
     "output_type": "stream",
     "text": [
      "2024-01-29 16:14:11,396 - INFO - HTTP Request: POST https://api.openai.com/v1/chat/completions \"HTTP/1.1 200 OK\"\n"
     ]
    },
    {
     "name": "stdout",
     "output_type": "stream",
     "text": [
      "\u001b[32;1m\u001b[1;3mThe table that likely contains the stock prices is 'stockdata'. I need to check the schema of this table to confirm and to know the exact column names.\n",
      "Action: sql_db_schema\n",
      "Action Input: \"stockdata\"\u001b[0m\u001b[33;1m\u001b[1;3m\n",
      "CREATE TABLE stockdata (\n",
      "\tid INTEGER, \n",
      "\tsymbol TEXT NOT NULL, \n",
      "\tsector TEXT, \n",
      "\tdate TEXT NOT NULL, \n",
      "\topen REAL NOT NULL, \n",
      "\thigh REAL NOT NULL, \n",
      "\tlow REAL NOT NULL, \n",
      "\tclose REAL NOT NULL, \n",
      "\tvolume INTEGER NOT NULL, \n",
      "\tdailychangepercent REAL NOT NULL, \n",
      "\tPRIMARY KEY (id), \n",
      "\tUNIQUE (symbol, date)\n",
      ")\n",
      "\n",
      "/*\n",
      "3 rows from stockdata table:\n",
      "id\tsymbol\tsector\tdate\topen\thigh\tlow\tclose\tvolume\tdailychangepercent\n",
      "1\tCAT\tFarm & Heavy Construction Machinery\t2024-01-03\t287.06008758155457\t287.597575469304\t282.01346088643976\t282.9889221191406\t3043400\t-2.8731506923064756\n",
      "2\tCAT\tFarm & Heavy Construction Machinery\t2024-01-04\t283.0984307494382\t286.89085828753036\t282.48129477500663\t284.7806396484375\t2995400\t0.6331405186746312\n",
      "3\tCAT\tFarm & Heavy Construction Machinery\t2024-01-05\t284.9299310610924\t289.658025986997\t284.15352931991237\t287.5975646972656\t2684800\t0.9891560930215013\n",
      "*/\u001b[0m"
     ]
    },
    {
     "name": "stderr",
     "output_type": "stream",
     "text": [
      "2024-01-29 16:14:15,082 - INFO - HTTP Request: POST https://api.openai.com/v1/chat/completions \"HTTP/1.1 200 OK\"\n"
     ]
    },
    {
     "name": "stdout",
     "output_type": "stream",
     "text": [
      "\u001b[32;1m\u001b[1;3mThe 'stockdata' table contains the stock prices. The 'symbol' column likely contains the stock symbol, the 'date' column contains the date of the stock price, and the 'close' column contains the close price. I can now write a SQL query to get the close price for XOM for the most recent 5 days.\n",
      "Action: sql_db_query_checker\n",
      "Action Input: \"SELECT date, close FROM stockdata WHERE symbol = 'XOM' ORDER BY date DESC LIMIT 5\"\u001b[0m"
     ]
    },
    {
     "name": "stderr",
     "output_type": "stream",
     "text": [
      "2024-01-29 16:14:21,329 - INFO - HTTP Request: POST https://api.openai.com/v1/chat/completions \"HTTP/1.1 200 OK\"\n"
     ]
    },
    {
     "name": "stdout",
     "output_type": "stream",
     "text": [
      "\u001b[36;1m\u001b[1;3mSELECT date, close FROM stockdata WHERE symbol = 'XOM' ORDER BY date DESC LIMIT 5\u001b[0m"
     ]
    },
    {
     "name": "stderr",
     "output_type": "stream",
     "text": [
      "2024-01-29 16:14:22,969 - INFO - HTTP Request: POST https://api.openai.com/v1/chat/completions \"HTTP/1.1 200 OK\"\n"
     ]
    },
    {
     "name": "stdout",
     "output_type": "stream",
     "text": [
      "\u001b[32;1m\u001b[1;3mThe SQL query is correct. I can now execute it to get the close price for XOM for the most recent 5 days.\n",
      "Action: sql_db_query\n",
      "Action Input: \"SELECT date, close FROM stockdata WHERE symbol = 'XOM' ORDER BY date DESC LIMIT 5\"\u001b[0m\u001b[36;1m\u001b[1;3m[('2024-01-26', 103.0), ('2024-01-25', 102.12999725341797), ('2024-01-24', 99.5999984741211), ('2024-01-23', 97.91000366210938), ('2024-01-22', 96.81999969482422)]\u001b[0m"
     ]
    },
    {
     "name": "stderr",
     "output_type": "stream",
     "text": [
      "2024-01-29 16:14:27,781 - INFO - HTTP Request: POST https://api.openai.com/v1/chat/completions \"HTTP/1.1 200 OK\"\n"
     ]
    },
    {
     "name": "stdout",
     "output_type": "stream",
     "text": [
      "\u001b[32;1m\u001b[1;3mI now know the close price for XOM for the most recent 5 days.\n",
      "Final Answer: The close prices for XOM for the most recent 5 days are as follows:\n",
      "- 2024-01-26: 103.0\n",
      "- 2024-01-25: 102.13\n",
      "- 2024-01-24: 99.60\n",
      "- 2024-01-23: 97.91\n",
      "- 2024-01-22: 96.82\u001b[0m\n",
      "\n",
      "\u001b[1m> Finished chain.\u001b[0m\n",
      "\u001b[38;5;200m\u001b[1;3mThe close prices for XOM for the most recent 5 days are as follows:\n",
      "- 2024-01-26: 103.0\n",
      "- 2024-01-25: 102.13\n",
      "- 2024-01-24: 99.60\n",
      "- 2024-01-23: 97.91\n",
      "- 2024-01-22: 96.82\u001b[0m"
     ]
    },
    {
     "name": "stderr",
     "output_type": "stream",
     "text": [
      "2024-01-29 16:14:34,538 - INFO - HTTP Request: POST https://api.openai.com/v1/chat/completions \"HTTP/1.1 200 OK\"\n",
      "2024-01-29 16:14:43,606 - INFO - Using categorical units to plot a list of strings that are all parsable as floats or dates. If these strings should be plotted as numbers, cast to the appropriate data type before plotting.\n",
      "2024-01-29 16:14:43,608 - INFO - Using categorical units to plot a list of strings that are all parsable as floats or dates. If these strings should be plotted as numbers, cast to the appropriate data type before plotting.\n"
     ]
    },
    {
     "data": {
      "image/png": "[encoded data removed]",
      "text/plain": [
       "<Figure size 1000x500 with 1 Axes>"
      ]
     },
     "metadata": {},
     "output_type": "display_data"
    },
    {
     "name": "stdout",
     "output_type": "stream",
     "text": [
      "\u001b[32;1m\u001b[1;3m\n",
      "Invoking: `PythonREPLTool` with `{'code': \"import matplotlib.pyplot as plt\\n\\n# Data\\ndates = ['2024-01-22', '2024-01-23', '2024-01-24', '2024-01-25', '2024-01-26']\\nprices = [96.82, 97.91, 99.60, 102.13, 103.0]\\n\\n# Create plot\\nplt.figure(figsize=(10,5))\\nplt.plot(dates, prices, marker='o')\\n\\n# Title and labels\\nplt.title('XOM Close Prices - Most Recent 5 Days')\\nplt.xlabel('Date')\\nplt.ylabel('Close Price')\\n\\n# Show plot\\nplt.show()\"}`\n",
      "\n",
      "\n",
      "\u001b[0m\u001b[38;5;200m\u001b[1;3mSuccesfully executed:\n",
      "```python\n",
      "import matplotlib.pyplot as plt\n",
      "\n",
      "# Data\n",
      "dates = ['2024-01-22', '2024-01-23', '2024-01-24', '2024-01-25', '2024-01-26']\n",
      "prices = [96.82, 97.91, 99.60, 102.13, 103.0]\n",
      "\n",
      "# Create plot\n",
      "plt.figure(figsize=(10,5))\n",
      "plt.plot(dates, prices, marker='o')\n",
      "\n",
      "# Title and labels\n",
      "plt.title('XOM Close Prices - Most Recent 5 Days')\n",
      "plt.xlabel('Date')\n",
      "plt.ylabel('Close Price')\n",
      "\n",
      "# Show plot\n",
      "plt.show()\n",
      "```\n",
      "Stdout: \u001b[0m"
     ]
    },
    {
     "name": "stderr",
     "output_type": "stream",
     "text": [
      "2024-01-29 16:14:44,574 - INFO - HTTP Request: POST https://api.openai.com/v1/chat/completions \"HTTP/1.1 200 OK\"\n"
     ]
    },
    {
     "name": "stdout",
     "output_type": "stream",
     "text": [
      "\u001b[32;1m\u001b[1;3mHere is the plot for the closing prices of XOM for the most recent 5 days:\n",
      "\n",
      "[Plot Image]\n",
      "\n",
      "- On 2024-01-22, the closing price was 96.82.\n",
      "- On 2024-01-23, the closing price was 97.91.\n",
      "- On 2024-01-24, the closing price was 99.60.\n",
      "- On 2024-01-25, the closing price was 102.13.\n",
      "- On 2024-01-26, the closing price was 103.0.\u001b[0m\n",
      "\n",
      "\u001b[1m> Finished chain.\u001b[0m\n"
     ]
    }
   ],
   "source": [
    "response = agent_executor(\n",
    "            {\"input\": \"plot close price for XOM most recent 5 days\", \"chat_history\": []},\n",
    "            # callbacks=[StdOutCallbackHandler()],\n",
    ")"
   ]
  },
  {
   "cell_type": "code",
   "execution_count": null,
   "metadata": {},
   "outputs": [],
   "source": []
  }
 ],
 "metadata": {
  "kernelspec": {
   "display_name": ".venv",
   "language": "python",
   "name": "python3"
  },
  "language_info": {
   "codemirror_mode": {
    "name": "ipython",
    "version": 3
   },
   "file_extension": ".py",
   "mimetype": "text/x-python",
   "name": "python",
   "nbconvert_exporter": "python",
   "pygments_lexer": "ipython3",
   "version": "3.10.11"
  }
 },
 "nbformat": 4,
 "nbformat_minor": 2
}
