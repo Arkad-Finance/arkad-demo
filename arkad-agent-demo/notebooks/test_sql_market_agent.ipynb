{
 "cells": [
  {
   "cell_type": "code",
   "execution_count": 1,
   "metadata": {},
   "outputs": [],
   "source": [
    "import os\n",
    "import openai\n",
    "from dotenv import load_dotenv\n",
    "from sql_market_agent.agent.agent import create_sql_market_agent\n",
    "from langchain_openai.chat_models import ChatOpenAI\n",
    "from langchain_community.chat_models import ChatOllama\n",
    "from langchain.callbacks import StdOutCallbackHandler\n",
    "from langchain.agents import AgentType\n",
    "\n",
    "import matplotlib.pyplot as plt\n",
    "import numpy as np\n",
    "\n",
    "load_dotenv()\n",
    "\n",
    "OPENAI_API_KEY = os.environ.get(\"OPENAI_API_KEY\")\n",
    "DB_HOST = os.getenv(\"POSTGRES_HOST\", \"localhost\")\n",
    "DB_PORT = os.getenv(\"POSTGRES_PORT\", \"5432\")\n",
    "DB_NAME = os.environ.get(\"POSTGRES_DB\")\n",
    "DB_USER = os.environ.get(\"POSTGRES_USER\")\n",
    "DB_PASSWORD = os.environ.get(\"POSTGRES_PASSWORD\")"
   ]
  },
  {
   "cell_type": "code",
   "execution_count": 2,
   "metadata": {},
   "outputs": [],
   "source": [
    "%matplotlib inline\n"
   ]
  },
  {
   "cell_type": "code",
   "execution_count": 4,
   "metadata": {},
   "outputs": [
    {
     "name": "stderr",
     "output_type": "stream",
     "text": [
      "2024-03-02 09:35:49,351 - WARNING - Invalid format for stocks. Expected a list of strings or a list of dictionaries with 'ticker' and 'sector' keys. Will use default stocks from internal stocks.json.\n",
      "2024-03-02 09:35:49,352 - INFO - DB connection string not provided, using local db on disc...\n",
      "2024-03-02 09:35:49,371 - INFO - Initializing database with StockData table...\n",
      "2024-03-02 09:35:49,552 - INFO - Database (sqlite) initialized.\n",
      "2024-03-02 09:35:49,553 - INFO - Fetching data for analysis...\n"
     ]
    },
    {
     "name": "stdout",
     "output_type": "stream",
     "text": [
      "Directory './charts' already exists\n"
     ]
    },
    {
     "name": "stderr",
     "output_type": "stream",
     "text": [
      "2024-03-02 09:35:49,553 - INFO - No stocks provided. Will use default stocks from internal stocks.json.: [{'ticker': 'XOM', 'sector': 'Oil'}, {'ticker': 'CVX', 'sector': 'Oil'}]\n",
      "...\n",
      "2024-03-02 09:35:49,554 - INFO - No bonds provided. Will use default bonds from internal bonds.json.: [{'symbol': 'UNRATE', 'description': 'Unemployment Rate'}, {'symbol': 'CPIAUCSL', 'description': 'Consumer Price Index'}]\n",
      "...\n",
      "2024-03-02 09:36:01,634 - INFO - Data for stocks candles fetched and inserted successfully.\n",
      "2024-03-02 09:36:01,642 - INFO - Processing XOM with CIK 0000034088\n",
      "2024-03-02 09:36:02,547 - INFO - Processing CVX with CIK 0000093410\n",
      "2024-03-02 09:36:03,688 - INFO - Processing COP with CIK 0001163165\n",
      "2024-03-02 09:36:04,421 - INFO - Processing SLB with CIK 0000087347\n",
      "2024-03-02 09:36:05,121 - INFO - Processing APA with CIK 0001841666\n",
      "2024-03-02 09:36:05,450 - WARNING - Missing required data categories for Revenues\n",
      "2024-03-02 09:36:05,450 - INFO - Skipping APA due to missing revenue data.\n",
      "2024-03-02 09:36:05,451 - INFO - Processing BP with CIK 0000313807\n",
      "2024-03-02 09:36:05,855 - WARNING - No 'us-gaap' data in BP facts, skipping...\n",
      "2024-03-02 09:36:05,856 - INFO - Processing MRO with CIK 0000101778\n",
      "2024-03-02 09:36:06,551 - INFO - Processing PXD with CIK 0001038357\n",
      "2024-03-02 09:36:07,334 - INFO - Processing VLO with CIK 0001035002\n",
      "2024-03-02 09:36:07,909 - WARNING - Missing required data categories for Revenues\n",
      "2024-03-02 09:36:07,910 - INFO - Skipping VLO due to missing revenue data.\n",
      "2024-03-02 09:36:07,911 - INFO - Processing INTC with CIK 0000050863\n",
      "2024-03-02 09:36:08,428 - INFO - Processing TSM with CIK 0001046179\n",
      "2024-03-02 09:36:08,724 - WARNING - No 'us-gaap' data in TSM facts, skipping...\n",
      "2024-03-02 09:36:08,724 - INFO - Processing QCOM with CIK 0000804328\n",
      "2024-03-02 09:36:09,417 - INFO - Processing NVDA with CIK 0001045810\n",
      "2024-03-02 09:36:09,950 - INFO - Processing AMD with CIK 0000002488\n",
      "2024-03-02 09:36:10,454 - INFO - Processing ASML with CIK 0000937966\n",
      "2024-03-02 09:36:10,911 - WARNING - Key error while blending Revenues aliases: 'USD'\n",
      "2024-03-02 09:36:10,912 - WARNING - Key error while blending Revenues aliases: 'USD'\n",
      "2024-03-02 09:36:10,912 - WARNING - Key error while blending Revenues aliases: 'USD'\n",
      "2024-03-02 09:36:10,913 - WARNING - Key error while blending Revenues aliases: 'USD'\n",
      "2024-03-02 09:36:10,913 - INFO - Skipping ASML due to missing revenue data.\n",
      "2024-03-02 09:36:10,914 - INFO - Processing TXN with CIK 0000097476\n",
      "2024-03-02 09:36:11,462 - INFO - Processing MU with CIK 0000723125\n",
      "2024-03-02 09:36:12,044 - INFO - Processing ADSK with CIK 0000769397\n",
      "2024-03-02 09:36:12,722 - INFO - Processing ENPH with CIK 0001463101\n",
      "2024-03-02 09:36:13,321 - INFO - Processing FSLR with CIK 0001274494\n",
      "2024-03-02 09:36:14,036 - INFO - Processing SEDG with CIK 0001419612\n",
      "2024-03-02 09:36:14,647 - INFO - Processing SPWR with CIK 0000867773\n",
      "2024-03-02 09:36:15,593 - INFO - Processing JKS with CIK 0001481513\n",
      "2024-03-02 09:36:16,043 - INFO - Processing CSIQ with CIK 0001375877\n",
      "2024-03-02 09:36:16,466 - INFO - Processing NOVA with CIK 0001772695\n",
      "2024-03-02 09:36:16,877 - INFO - Processing SOL with CIK 0001417892\n",
      "2024-03-02 09:36:17,292 - INFO - Processing MAXN with CIK 0001796898\n",
      "2024-03-02 09:36:17,685 - INFO - Processing ARRY with CIK 0001820721\n",
      "2024-03-02 09:36:18,078 - INFO - Data for stocks revenues fetched and inserted successfully.\n",
      "/home/oleh/arkad/arkad-demo/arkad-sql-demo/sql-market-agent/sql_market_agent/agent/tools/storage/fred/fred_processor.py:18: RuntimeWarning: invalid value encountered in scalar divide\n",
      "  (current_value - previous_value) / previous_value * 100\n",
      "/home/oleh/arkad/arkad-demo/arkad-sql-demo/sql-market-agent/sql_market_agent/agent/tools/storage/fred/fred_processor.py:18: RuntimeWarning: divide by zero encountered in scalar divide\n",
      "  (current_value - previous_value) / previous_value * 100\n",
      "/home/oleh/arkad/arkad-demo/arkad-sql-demo/sql-market-agent/sql_market_agent/agent/tools/storage/fred/fred_processor.py:18: RuntimeWarning: divide by zero encountered in scalar divide\n",
      "  (current_value - previous_value) / previous_value * 100\n",
      "/home/oleh/arkad/arkad-demo/arkad-sql-demo/sql-market-agent/sql_market_agent/agent/tools/storage/fred/fred_processor.py:18: RuntimeWarning: invalid value encountered in scalar divide\n",
      "  (current_value - previous_value) / previous_value * 100\n",
      "/home/oleh/arkad/arkad-demo/arkad-sql-demo/sql-market-agent/sql_market_agent/agent/tools/storage/fred/fred_processor.py:18: RuntimeWarning: divide by zero encountered in scalar divide\n",
      "  (current_value - previous_value) / previous_value * 100\n",
      "/home/oleh/arkad/arkad-demo/arkad-sql-demo/sql-market-agent/sql_market_agent/agent/tools/storage/fred/fred_processor.py:18: RuntimeWarning: divide by zero encountered in scalar divide\n",
      "  (current_value - previous_value) / previous_value * 100\n",
      "/home/oleh/arkad/arkad-demo/arkad-sql-demo/sql-market-agent/sql_market_agent/agent/tools/storage/fred/fred_processor.py:18: RuntimeWarning: invalid value encountered in scalar divide\n",
      "  (current_value - previous_value) / previous_value * 100\n",
      "2024-03-02 09:36:33,426 - INFO - Data for macro metrics fetched and inserted successfully.\n",
      "2024-03-02 09:36:33,427 - INFO - Data fetched and inserted successfully.\n",
      "2024-03-02 09:36:33,427 - INFO - Connecting to db for sql agent...\n",
      "2024-03-02 09:36:33,434 - INFO - Connected to db for sql agent successfully\n",
      "/home/oleh/arkad/arkad-demo/arkad-sql-demo/notebooks/.venv/lib/python3.10/site-packages/langchain_core/_api/deprecation.py:117: LangChainDeprecationWarning: The function `format_tool_to_openai_function` was deprecated in LangChain 0.1.16 and will be removed in 0.2.0. Use langchain_core.utils.function_calling.convert_to_openai_function() instead.\n",
      "  warn_deprecated(\n"
     ]
    }
   ],
   "source": [
    "# For using open ai models\n",
    "openai.api_key = OPENAI_API_KEY\n",
    "llm = ChatOpenAI(temperature=0, \n",
    "                 model=\"gpt-4-0125-preview\", \n",
    "                 streaming=True, \n",
    "                 model_kwargs={\"seed\": 123})\n",
    "sql_llm = ChatOpenAI(temperature=0, \n",
    "                 model=\"gpt-4-0125-preview\", \n",
    "                 streaming=True, \n",
    "                 model_kwargs={\"seed\": 123})\n",
    "code_llm = ChatOpenAI(temperature=0, \n",
    "                 model=\"gpt-4-0125-preview\", \n",
    "                 streaming=True, \n",
    "                 model_kwargs={\"seed\": 123})\n",
    "\n",
    "\n",
    "agent_executor = create_sql_market_agent(\n",
    "    llm=llm,\n",
    "    sql_llm=sql_llm,\n",
    "    code_llm=code_llm,\n",
    "    agent_type=AgentType.OPENAI_FUNCTIONS,\n",
    "    preinitialize_database=True,\n",
    "    # to load specified stocks instead of internal default list from stocks.json\n",
    "    # stocks=[\"CAT\", \"NKE\", \"XOM\"], \n",
    ")"
   ]
  },
  {
   "cell_type": "code",
   "execution_count": 5,
   "metadata": {},
   "outputs": [
    {
     "name": "stderr",
     "output_type": "stream",
     "text": [
      "/home/oleh/arkad/arkad-demo/arkad-sql-demo/notebooks/.venv/lib/python3.10/site-packages/langchain_core/_api/deprecation.py:117: LangChainDeprecationWarning: The function `__call__` was deprecated in LangChain 0.1.0 and will be removed in 0.2.0. Use invoke instead.\n",
      "  warn_deprecated(\n"
     ]
    },
    {
     "name": "stdout",
     "output_type": "stream",
     "text": [
      "\n",
      "\n",
      "\u001b[1m> Entering new AgentExecutor chain...\u001b[0m\n"
     ]
    },
    {
     "name": "stderr",
     "output_type": "stream",
     "text": [
      "2024-03-02 09:36:41,888 - INFO - HTTP Request: POST https://api.openai.com/v1/chat/completions \"HTTP/1.1 200 OK\"\n"
     ]
    },
    {
     "name": "stdout",
     "output_type": "stream",
     "text": [
      "\u001b[32;1m\u001b[1;3m\n",
      "Invoking: `sql_database_tool` with `What are the close prices for XOM for the last 3 days?`\n",
      "\n",
      "\n",
      "\u001b[0m\n",
      "\n",
      "\u001b[1m> Entering new SQL Agent Executor chain...\u001b[0m\n"
     ]
    },
    {
     "name": "stderr",
     "output_type": "stream",
     "text": [
      "2024-03-02 09:36:43,423 - INFO - HTTP Request: POST https://api.openai.com/v1/chat/completions \"HTTP/1.1 200 OK\"\n"
     ]
    },
    {
     "name": "stdout",
     "output_type": "stream",
     "text": [
      "\u001b[32;1m\u001b[1;3m\n",
      "Invoking: `sql_db_query` with `SELECT date, close FROM stockdata WHERE symbol = 'XOM' ORDER BY date DESC LIMIT 3`\n",
      "\n",
      "\n",
      "\u001b[0m\u001b[36;1m\u001b[1;3m[('2024-03-01', 105.83999633789062), ('2024-02-29', 104.5199966430664), ('2024-02-28', 104.31999969482422)]\u001b[0m"
     ]
    },
    {
     "name": "stderr",
     "output_type": "stream",
     "text": [
      "2024-03-02 09:36:44,859 - INFO - HTTP Request: POST https://api.openai.com/v1/chat/completions \"HTTP/1.1 200 OK\"\n"
     ]
    },
    {
     "name": "stdout",
     "output_type": "stream",
     "text": [
      "\u001b[32;1m\u001b[1;3mThe close prices for XOM for the last 3 days are as follows:\n",
      "- On 2024-03-01, the close price was $105.84.\n",
      "- On 2024-02-29, the close price was $104.52.\n",
      "- On 2024-02-28, the close price was $104.32.\u001b[0m\n",
      "\n",
      "\u001b[1m> Finished chain.\u001b[0m\n",
      "\u001b[38;5;200m\u001b[1;3mThe close prices for XOM for the last 3 days are as follows:\n",
      "- On 2024-03-01, the close price was $105.84.\n",
      "- On 2024-02-29, the close price was $104.52.\n",
      "- On 2024-02-28, the close price was $104.32.\u001b[0m"
     ]
    },
    {
     "name": "stderr",
     "output_type": "stream",
     "text": [
      "2024-03-02 09:36:48,135 - INFO - HTTP Request: POST https://api.openai.com/v1/chat/completions \"HTTP/1.1 200 OK\"\n"
     ]
    },
    {
     "name": "stdout",
     "output_type": "stream",
     "text": [
      "\u001b[32;1m\u001b[1;3m\n",
      "Invoking: `PythonProgrammerTool` with `{'user_input': 'Plot xom close prices for last 3 days', 'data': '{\\n  \"dates\": [\"2024-02-28\", \"2024-02-29\", \"2024-03-01\"],\\n  \"close_prices\": [104.32, 104.52, 105.84]\\n}', 'code': 'import plotly.graph_objects as go\\n\\ndates = [\"2024-02-28\", \"2024-02-29\", \"2024-03-01\"]\\nclose_prices = [104.32, 104.52, 105.84]\\n\\nfig = go.Figure(data=go.Scatter(x=dates, y=close_prices, mode=\\'lines+markers\\'))\\nfig.update_layout(title=\\'XOM Close Prices for the Last 3 Days\\', xaxis_title=\\'Date\\', yaxis_title=\\'Close Price ($)\\')\\nfig.write_html(\\'./charts/xom_close_prices_last_3_days.html\\')', 'task_type': 'plot'}`\n",
      "\n",
      "\n",
      "\u001b[0m"
     ]
    },
    {
     "name": "stderr",
     "output_type": "stream",
     "text": [
      "2024-03-02 09:36:57,145 - INFO - HTTP Request: POST https://api.openai.com/v1/chat/completions \"HTTP/1.1 200 OK\"\n"
     ]
    },
    {
     "name": "stdout",
     "output_type": "stream",
     "text": [
      "\u001b[36;1m\u001b[1;3mThe provided Python code aims to plot the close prices of XOM for the last 3 days, saving the plot in an HTML format without displaying it, which aligns with the plotting rules for a task of type \"plot\". However, to fully evaluate the code against the provided rules, let's break down the requirements and assess the code accordingly:\n",
      "\n",
      "1. **Plotting Rules Compliance**:\n",
      "   - The code saves a plot in HTML format (`fig.write_html('./charts/xom_close_prices_last_3_days.html')`), which complies with the first rule.\n",
      "   - The code does not include any command to show the plot (e.g., `fig.show()` is absent), which complies with the second rule.\n",
      "   - The user input does not request a comparative chart, so the third rule regarding the use of different colors for different categories does not apply.\n",
      "   - The data appears to be correctly displayed on the chart, with dates on the x-axis and close prices on the y-axis, which should make it easily readable for the user, complying with the fourth rule.\n",
      "\n",
      "2. **Data Rules Compliance**:\n",
      "   - The data provided in the code (`dates` and `close_prices`) matches the \"data\" object provided in the user input, suggesting it is actual data intended for this specific plot. This complies with the first data rule.\n",
      "   - Given the current date is 2024-03-02, and the data includes prices up to 2024-03-01, the code works with the latest available data, which complies with the second data rule. The data for stocks (OHLC) is expected to be no more than one month old, and this condition is met.\n",
      "\n",
      "**Conclusion**:\n",
      "The provided code complies with all the specified plotting and data rules for a task of type \"plot\". Therefore, there is no need to rewrite the code. Here is the original code for reference:\n",
      "\n",
      "```python\n",
      "import plotly.graph_objects as go\n",
      "\n",
      "dates = [\"2024-02-28\", \"2024-02-29\", \"2024-03-01\"]\n",
      "close_prices = [104.32, 104.52, 105.84]\n",
      "\n",
      "fig = go.Figure(data=go.Scatter(x=dates, y=close_prices, mode='lines+markers'))\n",
      "fig.update_layout(title='XOM Close Prices for the Last 3 Days', xaxis_title='Date', yaxis_title='Close Price ($)')\n",
      "fig.write_html('./charts/xom_close_prices_last_3_days.html')\n",
      "```\u001b[0m"
     ]
    },
    {
     "name": "stderr",
     "output_type": "stream",
     "text": [
      "2024-03-02 09:37:13,429 - INFO - HTTP Request: POST https://api.openai.com/v1/chat/completions \"HTTP/1.1 200 OK\"\n",
      "2024-03-02 09:37:21,168 - WARNING - Python REPL can execute arbitrary code. Use with caution.\n"
     ]
    },
    {
     "name": "stdout",
     "output_type": "stream",
     "text": [
      "\u001b[32;1m\u001b[1;3m\n",
      "Invoking: `PythonREPLTool` with `{'code': 'import plotly.graph_objects as go\\n\\ndates = [\"2024-02-28\", \"2024-02-29\", \"2024-03-01\"]\\nclose_prices = [104.32, 104.52, 105.84]\\n\\nfig = go.Figure(data=go.Scatter(x=dates, y=close_prices, mode=\\'lines+markers\\'))\\nfig.update_layout(title=\\'XOM Close Prices for the Last 3 Days\\', xaxis_title=\\'Date\\', yaxis_title=\\'Close Price ($)\\')\\nfig.write_html(\\'./charts/xom_close_prices_last_3_days.html\\')', 'task_type': 'plot', 'chart_path': './charts/xom_close_prices_last_3_days.html'}`\n",
      "\n",
      "\n",
      "\u001b[0m\u001b[33;1m\u001b[1;3m{\"output\": \"Succesfully executed:\\n```python\\nimport plotly.graph_objects as go\\n\\ndates = [\\\"2024-02-28\\\", \\\"2024-02-29\\\", \\\"2024-03-01\\\"]\\nclose_prices = [104.32, 104.52, 105.84]\\n\\nfig = go.Figure(data=go.Scatter(x=dates, y=close_prices, mode='lines+markers'))\\nfig.update_layout(title='XOM Close Prices for the Last 3 Days', xaxis_title='Date', yaxis_title='Close Price ($)')\\nfig.write_html('./charts/xom_close_prices_last_3_days.html')```\\n\", \"stdout\": \"\", \"stderr\": \"\", \"artifacts_paths\": [\"./charts/xom_close_prices_last_3_days.html\"], \"task_type\": \"plot\"}\u001b[0m"
     ]
    },
    {
     "name": "stderr",
     "output_type": "stream",
     "text": [
      "2024-03-02 09:37:22,442 - INFO - HTTP Request: POST https://api.openai.com/v1/chat/completions \"HTTP/1.1 200 OK\"\n"
     ]
    },
    {
     "name": "stdout",
     "output_type": "stream",
     "text": [
      "\u001b[32;1m\u001b[1;3mThe plot of XOM close prices for the last 3 days has been successfully created. You can view the plot by accessing the following link: [XOM Close Prices for the Last 3 Days](sandbox:/charts/xom_close_prices_last_3_days.html).\u001b[0m\n",
      "\n",
      "\u001b[1m> Finished chain.\u001b[0m\n"
     ]
    }
   ],
   "source": [
    "input = \"\"\"Plot xom close prices for last 3 days\"\"\"\n",
    "response = agent_executor(\n",
    "            {\"input\": input, \"chat_history\": []},\n",
    "            # callbacks=[StdOutCallbackHandler()],\n",
    ")\n",
    "\n"
   ]
  },
  {
   "cell_type": "code",
   "execution_count": null,
   "metadata": {},
   "outputs": [],
   "source": []
  }
 ],
 "metadata": {
  "kernelspec": {
   "display_name": ".venv",
   "language": "python",
   "name": "python3"
  },
  "language_info": {
   "codemirror_mode": {
    "name": "ipython",
    "version": 3
   },
   "file_extension": ".py",
   "mimetype": "text/x-python",
   "name": "python",
   "nbconvert_exporter": "python",
   "pygments_lexer": "ipython3",
   "version": "3.10.12"
  }
 },
 "nbformat": 4,
 "nbformat_minor": 2
}
